{
 "cells": [
  {
   "cell_type": "code",
   "execution_count": 324,
   "metadata": {},
   "outputs": [],
   "source": [
    "import numpy as np\n",
    "import torch\n",
    "import matplotlib.pyplot as plt\n",
    "from torch.utils.data import TensorDataset, DataLoader\n",
    "from torch import nn\n",
    "from tqdm import tqdm\n",
    "import os\n",
    "\n",
    "data_dir = 'data/'\n",
    "\n",
    "\n",
    "ratings_train = torch.tensor(np.load(os.path.join(data_dir, 'ratings_train.npy')), dtype=torch.float32)\n",
    "ratings_test = torch.tensor(np.load(os.path.join(data_dir, 'ratings_test.npy')), dtype=torch.float32)\n",
    "names_genres = np.load(os.path.join(data_dir, 'namesngenre.npy'))"
   ]
  },
  {
   "cell_type": "code",
   "execution_count": 325,
   "metadata": {},
   "outputs": [
    {
     "name": "stdout",
     "output_type": "stream",
     "text": [
      "torch.Size([610, 4980])\n",
      "% of missing values for the training matrix : 0.9895983934402466\n",
      "torch.Size([610, 4980])\n",
      "% of missing values for the testing matrix : 0.9895983934402466\n",
      "[['Toy Story (1995)' 'Adventure|Animation|Children|Comedy|Fantasy']\n",
      " ['Jumanji (1995)' 'Adventure|Children|Fantasy']\n",
      " ['Grumpier Old Men (1995)' 'Comedy|Romance']\n",
      " ...\n",
      " ['Elsa & Fred (2005)' 'Comedy|Drama|Romance']\n",
      " ['Tomb Raider (2018)' 'Action|Adventure|Fantasy']\n",
      " ['Fred Armisen: Standup for Drummers (2018)' 'Comedy']]\n"
     ]
    }
   ],
   "source": [
    "print(ratings_train.shape)\n",
    "print(f\"% of missing values for the training matrix : {np.isnan(ratings_train).sum()/(ratings_train.shape[0]*ratings_train.shape[1])}\")\n",
    "print(ratings_test.shape)\n",
    "print(f\"% of missing values for the testing matrix : {np.isnan(ratings_test).sum()/(ratings_test.shape[0]*ratings_test.shape[1])}\")\n",
    "print(names_genres)"
   ]
  },
  {
   "cell_type": "code",
   "execution_count": 326,
   "metadata": {},
   "outputs": [],
   "source": [
    "class AutoRecEncoder(nn.Module) :\n",
    "    def __init__(self, d, k, dropout) :\n",
    "        print(f\"AutoRec Encoder : d={d}, k={k}, dropout={dropout}\")\n",
    "        super().__init__()\n",
    "        self.encoder=nn.Sequential(\n",
    "        nn.Linear(d,k),\n",
    "        nn.Sigmoid(), # Can be changed\n",
    "        # nn.ReLU(),\n",
    "        nn.Dropout(dropout))\n",
    "        self.decoder=nn.Linear(k,d)\n",
    "\n",
    "    def forward(self, x):\n",
    "        x = self.encoder(x)\n",
    "        x = self.decoder(x)\n",
    "        return x"
   ]
  },
  {
   "cell_type": "code",
   "execution_count": 327,
   "metadata": {},
   "outputs": [
    {
     "name": "stdout",
     "output_type": "stream",
     "text": [
      "tensor([[1., 0., 0.,  ..., 0., 0., 0.],\n",
      "        [0., 0., 0.,  ..., 0., 0., 0.],\n",
      "        [0., 0., 0.,  ..., 0., 0., 0.],\n",
      "        ...,\n",
      "        [0., 1., 0.,  ..., 0., 0., 0.],\n",
      "        [1., 0., 0.,  ..., 0., 0., 0.],\n",
      "        [0., 0., 0.,  ..., 0., 0., 0.]])\n"
     ]
    }
   ],
   "source": [
    "def get_mask(ratings):\n",
    "    mask = ~torch.isnan(ratings)  # True là où il y a une valeur, False là où il y a un NaN\n",
    "    ratings = torch.nan_to_num(ratings, nan=0.0)  # Remplace temporairement les NaN par 0\n",
    "    return ratings, mask.float()\n",
    "\n",
    "def compute_rmse(pred, true, mask):\n",
    "    # On ne considère que les valeurs observées (où mask = 1)\n",
    "    loss = torch.sum(((pred - true) ** 2) * mask) / torch.sum(mask)\n",
    "    return torch.sqrt(loss)\n",
    "\n",
    "_, mask = get_mask(ratings_train)\n",
    "print(mask)"
   ]
  },
  {
   "cell_type": "code",
   "execution_count": 328,
   "metadata": {},
   "outputs": [
    {
     "name": "stdout",
     "output_type": "stream",
     "text": [
      "torch.Size([610, 4980])\n"
     ]
    }
   ],
   "source": [
    "print(ratings_train.shape)"
   ]
  },
  {
   "cell_type": "code",
   "execution_count": 329,
   "metadata": {},
   "outputs": [
    {
     "name": "stdout",
     "output_type": "stream",
     "text": [
      "AutoRec Encoder : d=610, k=500, dropout=False\n"
     ]
    },
    {
     "name": "stderr",
     "output_type": "stream",
     "text": [
      "  0%|          | 0/200 [00:00<?, ?it/s]"
     ]
    },
    {
     "name": "stderr",
     "output_type": "stream",
     "text": [
      "Epoch 200, Loss: 0.1710: 100%|██████████| 200/200 [01:23<00:00,  2.40it/s]\n"
     ]
    }
   ],
   "source": [
    "num_movies = ratings_train.shape[1] # For user-based\n",
    "num_users = ratings_train.shape[0] # For item-based\n",
    "\n",
    "model = AutoRecEncoder(num_users,500,dropout=False)\n",
    "optimizer = torch.optim.Adam(model.parameters(), lr=0.001, weight_decay=1e-4)\n",
    "ratings_train, train_mask = get_mask(ratings_train.T)\n",
    "\n",
    "epochs = 200\n",
    "verbose = False\n",
    "loss_values = []\n",
    "batch_size = 32\n",
    "device = \"cuda\"\n",
    "train_dataset = TensorDataset(ratings_train, train_mask)\n",
    "train_loader = DataLoader(train_dataset, batch_size, shuffle=True)\n",
    "model = model.to(device)\n",
    "\n",
    "pbar = tqdm(range(epochs))\n",
    "for epoch in pbar :\n",
    "    model.train()\n",
    "    epoch_loss = 0\n",
    "    for batch_ratings, batch_mask in train_loader :\n",
    "        batch_ratings = batch_ratings.to(device)\n",
    "        batch_mask = batch_mask.to(device)\n",
    "        optimizer.zero_grad()\n",
    "        output_matrix = model(batch_ratings)\n",
    "        loss = compute_rmse(output_matrix, batch_ratings, batch_mask)\n",
    "        epoch_loss += loss.item()\n",
    "        loss.backward()\n",
    "        optimizer.step()\n",
    "    epoch_loss /= len(train_loader)\n",
    "    pbar.set_description(f\"Epoch {epoch + 1}, Loss: {epoch_loss:.4f}\")\n",
    "    loss_values.append(epoch_loss)\n",
    "    if verbose :\n",
    "        if (epoch +1) %10 == 0 : \n",
    "            print(f\"loss at epoch {epoch + 1} : {epoch_loss}\")"
   ]
  },
  {
   "cell_type": "code",
   "execution_count": 330,
   "metadata": {},
   "outputs": [
    {
     "data": {
      "image/png": "[encoded data removed]",
      "text/plain": [
       "<Figure size 640x480 with 1 Axes>"
      ]
     },
     "metadata": {},
     "output_type": "display_data"
    }
   ],
   "source": [
    "plt.plot(list(np.arange(len(loss_values))),loss_values)\n",
    "plt.title(\"Evolution de la perte d'entraînement\")\n",
    "plt.xlabel(\"Nombre d'epochs\")\n",
    "plt.ylabel(\"RMSE\")\n",
    "plt.show()"
   ]
  },
  {
   "cell_type": "code",
   "execution_count": 331,
   "metadata": {},
   "outputs": [
    {
     "name": "stdout",
     "output_type": "stream",
     "text": [
      "Test RMSE: 0.6927416920661926\n",
      "Test RMSE avec arrondis: 0.7049552202224731\n"
     ]
    }
   ],
   "source": [
    "# ratings_test = torch.Tensor(np.load(\"ratings_test.npy\"))\n",
    "ratings_test, mask_test = get_mask(ratings_test.T)\n",
    "model.eval()\n",
    "with torch.no_grad():\n",
    "    predictions_test = model(ratings_test.to(device))\n",
    "test_loss = compute_rmse(predictions_test, ratings_test.to(device), mask_test.to(device))\n",
    "print(f\"Test RMSE: {test_loss.item()}\")\n",
    "predictions_test_rounded = (predictions_test.clone() *2).round()/2\n",
    "test_loss = compute_rmse(predictions_test_rounded, ratings_test.to(device), mask_test.to(device))\n",
    "print(f\"Test RMSE avec arrondis: {test_loss.item()}\")"
   ]
  },
  {
   "cell_type": "code",
   "execution_count": 332,
   "metadata": {},
   "outputs": [
    {
     "name": "stdout",
     "output_type": "stream",
     "text": [
      "Predictions :  tensor([3.5000, 4.0000, 4.0000, 4.5000, 4.5000, 3.5000, 3.5000, 4.5000, 4.0000,\n",
      "        4.0000, 4.5000, 3.5000, 4.0000, 3.0000, 5.0000, 3.5000, 3.5000, 4.0000,\n",
      "        4.0000, 4.0000, 5.0000, 5.5000, 5.0000, 5.0000, 4.5000, 4.0000, 5.0000,\n",
      "        4.5000, 4.0000, 4.0000, 4.5000, 4.0000, 4.0000, 5.0000, 4.0000, 4.0000,\n",
      "        3.5000, 4.0000, 5.0000, 5.0000, 5.0000, 4.0000, 4.5000, 4.0000, 3.5000,\n",
      "        4.5000, 4.0000, 4.5000, 5.0000, 3.5000, 5.0000, 4.0000, 4.0000, 4.5000,\n",
      "        5.0000, 4.5000, 4.0000, 4.5000, 4.0000, 4.5000, 5.0000, 5.0000, 4.5000,\n",
      "        4.5000, 4.0000, 3.5000, 4.5000, 5.0000, 4.0000, 4.0000, 4.0000, 4.0000,\n",
      "        5.5000, 5.0000, 4.0000, 4.5000, 5.0000, 4.0000, 4.5000],\n",
      "       device='cuda:0')\n",
      "True ratings :  tensor([4., 4., 5., 5., 5., 3., 5., 3., 3., 4., 4., 5., 4., 4., 5., 3., 3., 5.,\n",
      "        4., 3., 5., 5., 4., 5., 4., 5., 5., 5., 3., 5., 5., 3., 3., 4., 5., 5.,\n",
      "        3., 4., 4., 4., 5., 5., 4., 4., 5., 4., 5., 4., 5., 2., 5., 5., 5., 4.,\n",
      "        4., 5., 4., 4., 4., 5., 5., 4., 5., 5., 5., 5., 5., 5., 5., 5., 5., 4.,\n",
      "        5., 5., 4., 5., 5., 4., 4.])\n",
      "Names of the movies :  [['Grumpier Old Men (1995)' 'Comedy|Romance']\n",
      " ['Heat (1995)' 'Action|Crime|Thriller']\n",
      " ['Bottle Rocket (1996)' 'Adventure|Comedy|Crime|Romance']\n",
      " ['Canadian Bacon (1995)' 'Comedy|War']\n",
      " ['Desperado (1995)' 'Action|Romance|Western']\n",
      " ['Clerks (1994)' 'Comedy']\n",
      " ['Dumb & Dumber (Dumb and Dumber) (1994)' 'Adventure|Comedy']\n",
      " ['Pulp Fiction (1994)' 'Comedy|Crime|Drama|Thriller']\n",
      " ['Stargate (1994)' 'Action|Adventure|Sci-Fi']\n",
      " ['Forrest Gump (1994)' 'Comedy|Drama|Romance|War']\n",
      " ['Dazed and Confused (1993)' 'Comedy']\n",
      " ['Fugitive, The (1993)' 'Thriller']\n",
      " ['Jurassic Park (1993)' 'Action|Adventure|Sci-Fi|Thriller']\n",
      " ['Dances with Wolves (1990)' 'Adventure|Drama|Western']\n",
      " ['Pinocchio (1940)' 'Animation|Children|Fantasy|Musical']\n",
      " ['Mission: Impossible (1996)' 'Action|Adventure|Mystery|Thriller']\n",
      " ['Space Jam (1996)' 'Adventure|Animation|Children|Comedy|Fantasy|Sci-Fi']\n",
      " ['Citizen Kane (1941)' 'Drama|Mystery']\n",
      " ['Ghost and Mrs. Muir, The (1947)' 'Drama|Fantasy|Romance']\n",
      " ['Escape to Witch Mountain (1975)' 'Adventure|Children|Fantasy']\n",
      " ['Winnie the Pooh and the Blustery Day (1968)'\n",
      "  'Animation|Children|Musical']\n",
      " ['Fish Called Wanda, A (1988)' 'Comedy|Crime']\n",
      " ['Drop Dead Fred (1991)' 'Comedy|Fantasy']\n",
      " ['Princess Bride, The (1987)' 'Action|Adventure|Comedy|Fantasy|Romance']\n",
      " ['To Kill a Mockingbird (1962)' 'Drama']\n",
      " ['Psycho (1960)' 'Crime|Horror']\n",
      " ['Godfather: Part II, The (1974)' 'Crime|Drama']\n",
      " ['Amadeus (1984)' 'Drama']\n",
      " ['Better Off Dead... (1985)' 'Comedy|Romance']\n",
      " ['Great Dictator, The (1940)' 'Comedy|Drama|War']\n",
      " ['Some Kind of Wonderful (1987)' 'Drama|Romance']\n",
      " ['Scream (1996)' 'Comedy|Horror|Mystery|Thriller']\n",
      " ['Prefontaine (1997)' 'Drama']\n",
      " ['Anaconda (1997)' 'Action|Adventure|Thriller']\n",
      " ['Contempt (Mépris, Le) (1963)' 'Drama']\n",
      " ['G.I. Jane (1997)' 'Action|Drama']\n",
      " ['Incognito (1997)' 'Crime|Thriller']\n",
      " ['Metropolitan (1990)' 'Comedy']\n",
      " [\"Jane Austen's Mafia! (1998)\" 'Comedy|Crime']\n",
      " ['Devil and Max Devlin, The (1981)' 'Comedy|Fantasy']\n",
      " ['Flight of the Navigator (1986)' 'Adventure|Children|Sci-Fi']\n",
      " ['Journey of Natty Gann, The (1985)' 'Adventure|Children']\n",
      " ['Son of Flubber (1963)' 'Children|Comedy']\n",
      " ['Tex (1982)' 'Drama']\n",
      " ['Nutty Professor, The (1963)' 'Comedy|Sci-Fi']\n",
      " ['American Tail: Fievel Goes West, An (1991)'\n",
      "  'Adventure|Animation|Children|Musical|Western']\n",
      " [\"Rosemary's Baby (1968)\" 'Drama|Horror|Thriller']\n",
      " ['Strike! (a.k.a. All I Wanna Do, The Hairy Bird) (1998)' 'Comedy|Drama']\n",
      " ['Vampires (1998)' 'Horror|Western']\n",
      " ['Velvet Goldmine (1998)' 'Drama']\n",
      " ['Home Fries (1998)' 'Comedy|Romance']\n",
      " ['Prince of Egypt, The (1998)' 'Animation|Musical']\n",
      " ['Peggy Sue Got Married (1986)' 'Comedy|Drama']\n",
      " ['Firewalker (1986)' 'Adventure']\n",
      " ['Simply Irresistible (1999)' 'Comedy|Romance']\n",
      " ['October Sky (1999)' 'Drama']\n",
      " ['My Science Project (1985)' 'Adventure|Sci-Fi']\n",
      " ['Black Mask (Hak hap) (1996)' 'Action|Adventure|Crime|Sci-Fi|Thriller']\n",
      " ['Mommie Dearest (1981)' 'Drama']\n",
      " ['Curse of Frankenstein, The (1957)' 'Horror']\n",
      " ['Dick (1999)' 'Comedy']\n",
      " ['On the Ropes (1999)' 'Documentary|Drama']\n",
      " ['Yellow Submarine (1968)' 'Adventure|Animation|Comedy|Fantasy|Musical']\n",
      " ['Flashdance (1983)' 'Drama|Romance']\n",
      " ['Dirty Dozen, The (1967)' 'Action|Drama|War']\n",
      " ['RoboCop (1987)' 'Action|Crime|Drama|Sci-Fi|Thriller']\n",
      " ['For Your Eyes Only (1981)' 'Action|Adventure|Thriller']\n",
      " ['Under the Rainbow (1981)' 'Comedy']\n",
      " ['Cradle Will Rock (1999)' 'Drama']\n",
      " ['Agnes of God (1985)' 'Drama|Mystery']\n",
      " ['On the Beach (1959)' 'Drama']\n",
      " ['Double Indemnity (1944)' 'Crime|Drama|Film-Noir']\n",
      " ['Teenage Mutant Ninja Turtles (1990)'\n",
      "  'Action|Children|Comedy|Fantasy|Sci-Fi']\n",
      " ['Eyes of Laura Mars (1978)' 'Mystery|Thriller']\n",
      " ['Lucas (1986)' 'Drama|Romance']\n",
      " ['Carnosaur 2 (1995)' 'Horror|Sci-Fi']\n",
      " ['American Pop (1981)' 'Animation|Musical']\n",
      " ['Big Trouble in Little China (1986)' 'Action|Adventure|Comedy|Fantasy']\n",
      " ['Freejack (1992)' 'Action|Sci-Fi']]\n"
     ]
    }
   ],
   "source": [
    "# Print the predictions for a user that we can compare with the true values based on the mask\n",
    "user = 0\n",
    "# So we get the [user]th column of the predictions and the true ratings\n",
    "predictions = predictions_test_rounded.T[user]\n",
    "true_ratings = ratings_test.T[user]\n",
    "mask = mask_test.T[user]\n",
    "print(\"Predictions : \", predictions[mask == 1])\n",
    "print(\"True ratings : \", true_ratings[mask == 1])\n",
    "print(\"Names of the movies : \", names_genres[mask == 1])"
   ]
  },
  {
   "cell_type": "code",
   "execution_count": 333,
   "metadata": {},
   "outputs": [
    {
     "data": {
      "image/png": "[encoded data removed]",
      "text/plain": [
       "<Figure size 640x480 with 1 Axes>"
      ]
     },
     "metadata": {},
     "output_type": "display_data"
    },
    {
     "name": "stdout",
     "output_type": "stream",
     "text": [
      "Accuracy : 0.3960060775279999\n"
     ]
    }
   ],
   "source": [
    "# Plot the distribution of the predictions and the true ratings\n",
    "plt.hist(predictions[mask == 1].cpu(), bins=10, alpha=0.5, label='Predictions')\n",
    "plt.hist(true_ratings[mask == 1].cpu(), bins=10, alpha=0.5, label='True ratings')\n",
    "plt.legend()\n",
    "plt.title(\"Distribution of the predictions and the true ratings\")\n",
    "plt.show()\n",
    "\n",
    "def compute_accuracy(pred, true, mask) :\n",
    "    accuracy = torch.sum((pred==true)*mask)/torch.sum(mask)\n",
    "    return accuracy.item()\n",
    "\n",
    "accuracy = compute_accuracy(predictions_test_rounded, ratings_test.to(device), mask_test.to(device))\n",
    "print(f\"Accuracy : {accuracy}\")"
   ]
  }
 ],
 "metadata": {
  "kernelspec": {
   "display_name": "AR3K",
   "language": "python",
   "name": "python3"
  },
  "language_info": {
   "codemirror_mode": {
    "name": "ipython",
    "version": 3
   },
   "file_extension": ".py",
   "mimetype": "text/x-python",
   "name": "python",
   "nbconvert_exporter": "python",
   "pygments_lexer": "ipython3",
   "version": "3.9.13"
  }
 },
 "nbformat": 4,
 "nbformat_minor": 2
}
