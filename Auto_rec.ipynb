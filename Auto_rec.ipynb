{
 "cells": [
  {
   "cell_type": "code",
   "execution_count": 17,
   "metadata": {},
   "outputs": [],
   "source": [
    "import numpy as np\n",
    "import torch\n",
    "import matplotlib.pyplot as plt\n",
    "from torch.utils.data import TensorDataset, DataLoader\n",
    "from torch import nn\n",
    "from tqdm import tqdm"
   ]
  },
  {
   "cell_type": "code",
   "execution_count": 18,
   "metadata": {},
   "outputs": [
    {
     "name": "stdout",
     "output_type": "stream",
     "text": [
      "(610, 4980)\n",
      "% of missing values for the training matrix : 0.9895983935742972\n",
      "(610, 4980)\n",
      "% of missing values for the testing matrix : 0.9895983935742972\n",
      "[['Toy Story (1995)' 'Adventure|Animation|Children|Comedy|Fantasy']\n",
      " ['Jumanji (1995)' 'Adventure|Children|Fantasy']\n",
      " ['Grumpier Old Men (1995)' 'Comedy|Romance']\n",
      " ...\n",
      " ['Elsa & Fred (2005)' 'Comedy|Drama|Romance']\n",
      " ['Tomb Raider (2018)' 'Action|Adventure|Fantasy']\n",
      " ['Fred Armisen: Standup for Drummers (2018)' 'Comedy']]\n"
     ]
    }
   ],
   "source": [
    "ratings_train = np.load(\"data/ratings_train.npy\")\n",
    "ratings_test = np.load(\"data/ratings_test.npy\")\n",
    "print(ratings_train.shape)\n",
    "print(f\"% of missing values for the training matrix : {np.isnan(ratings_train).sum()/(ratings_train.shape[0]*ratings_train.shape[1])}\")\n",
    "print(ratings_test.shape)\n",
    "print(f\"% of missing values for the testing matrix : {np.isnan(ratings_test).sum()/(ratings_test.shape[0]*ratings_test.shape[1])}\")\n",
    "names_genres = np.load(\"data/namesngenre.npy\")\n",
    "print(names_genres)"
   ]
  },
  {
   "cell_type": "code",
   "execution_count": 19,
   "metadata": {},
   "outputs": [],
   "source": [
    "class AutoRecEncoder(nn.Module) :\n",
    "    def __init__(self, d, k, dropout) :\n",
    "        super().__init__()\n",
    "        self.encoder=nn.Sequential(\n",
    "        nn.Linear(d,k),\n",
    "        nn.Sigmoid(), # Can be changed\n",
    "        nn.Dropout(dropout))\n",
    "        self.decoder=nn.Linear(k,d)\n",
    "\n",
    "    def forward(self, x):\n",
    "        x = self.encoder(x)\n",
    "        x = self.decoder(x)\n",
    "        return x"
   ]
  },
  {
   "cell_type": "code",
   "execution_count": 20,
   "metadata": {},
   "outputs": [],
   "source": [
    "def get_mask(ratings):\n",
    "    mask = ~torch.isnan(ratings)  # True là où il y a une valeur, False là où il y a un NaN\n",
    "    ratings = torch.nan_to_num(ratings, nan=0.0)  # Remplace temporairement les NaN par 0\n",
    "    return ratings, mask.float()\n",
    "\n",
    "def compute_rmse(pred, true, mask):\n",
    "    # On ne considère que les valeurs observées (où mask = 1)\n",
    "    loss = torch.sum(((pred - true) ** 2) * mask) / torch.sum(mask)\n",
    "    return torch.sqrt(loss)\n"
   ]
  },
  {
   "cell_type": "code",
   "execution_count": 21,
   "metadata": {},
   "outputs": [],
   "source": [
    "# ratings_train = torch.Tensor(np.load(\"ratings_train.npy\"))\n",
    "\n",
    "# num_movies = ratings_train.shape[1]  # Pour user-based\n",
    "# num_users = ratings_train.shape[0]    # Pour item-based\n",
    "\n",
    "# ratings_train, train_mask = get_mask(ratings_train.T)\n",
    "\n",
    "# nb_epochs = 300\n",
    "# verbose = False\n",
    "# batch_size = 32\n",
    "# device = \"cuda\"\n",
    "# train_dataset = TensorDataset(ratings_train, train_mask)\n",
    "# train_loader = DataLoader(train_dataset, batch_size, shuffle=True)\n",
    "\n",
    "# all_loss_values = {}\n",
    "\n",
    "# for hidden_space_dimension in [100, 250, 500, 700]:\n",
    "#     model = AutoRecEncoder(num_users, hidden_space_dimension, dropout=False)\n",
    "#     optimizer = torch.optim.Adam(model.parameters(), lr=0.001, weight_decay=1e-5)\n",
    "#     model = model.to(device)\n",
    "#     pbar = tqdm(range(nb_epochs))\n",
    "    \n",
    "#     loss_values = []\n",
    "#     for epoch in pbar:\n",
    "#         model.train()\n",
    "#         epoch_loss = 0\n",
    "#         for batch_ratings, batch_mask in train_loader:\n",
    "#             batch_ratings = batch_ratings.to(device)\n",
    "#             batch_mask = batch_mask.to(device)\n",
    "#             optimizer.zero_grad()\n",
    "#             output_matrix = model(batch_ratings)\n",
    "#             loss = compute_rmse(output_matrix, batch_ratings, batch_mask)\n",
    "#             epoch_loss += loss.item()\n",
    "#             loss.backward()\n",
    "#             optimizer.step()\n",
    "        \n",
    "#         epoch_loss /= len(train_loader)\n",
    "#         pbar.set_description(f\"Hidden_space_dimension: {hidden_space_dimension}. Epoch {epoch + 1}, Loss: {epoch_loss:.4f}\")\n",
    "#         loss_values.append(epoch_loss)\n",
    "\n",
    "#         if verbose:\n",
    "#             if (epoch + 1) % 10 == 0:\n",
    "#                 print(f\"loss at epoch {epoch + 1}: {epoch_loss}\")\n",
    "\n",
    "#     all_loss_values[hidden_space_dimension] = loss_values\n",
    "\n",
    "# plt.figure(figsize=(10, 5))\n",
    "# for hidden_space_dimension, loss_values in all_loss_values.items():\n",
    "#     plt.plot(loss_values, label=f'Hidden Space: {hidden_space_dimension}')\n",
    "# plt.title('Courbe d\\'apprentissage')\n",
    "# plt.xlabel('Époques')\n",
    "# plt.ylabel('Perte RMSE')\n",
    "# plt.legend()\n",
    "# plt.grid()\n",
    "# plt.show()\n"
   ]
  },
  {
   "cell_type": "markdown",
   "metadata": {},
   "source": [
    "### Early stopping and fixed hidden space"
   ]
  },
  {
   "cell_type": "code",
   "execution_count": 26,
   "metadata": {},
   "outputs": [
    {
     "name": "stdout",
     "output_type": "stream",
     "text": [
      "4980\n"
     ]
    },
    {
     "name": "stderr",
     "output_type": "stream",
     "text": [
      "Hidden_space_dimension: 500. Epoch 10, Loss: 0.5293:  10%|█         | 10/100 [00:02<00:20,  4.47it/s]"
     ]
    },
    {
     "name": "stdout",
     "output_type": "stream",
     "text": [
      "1.0660173892974854 100000.0\n",
      "Saved weights at epoch 10\n"
     ]
    },
    {
     "name": "stderr",
     "output_type": "stream",
     "text": [
      "Hidden_space_dimension: 500. Epoch 100, Loss: 0.2226: 100%|██████████| 100/100 [00:19<00:00,  5.24it/s]\n"
     ]
    },
    {
     "data": {
      "image/png": "[encoded data removed]",
      "text/plain": [
       "<Figure size 600x300 with 1 Axes>"
      ]
     },
     "metadata": {},
     "output_type": "display_data"
    }
   ],
   "source": [
    "from copy import deepcopy\n",
    "\n",
    "user_based = False\n",
    "if user_based : \n",
    "    ratings_train = torch.Tensor(np.load(\"data/ratings_train.npy\"))\n",
    "    num_users = ratings_train.shape[0]    # Pour user-based\n",
    "    num_movies = ratings_train.shape[1]  # Pour item-based\n",
    "    input_dim = num_movies\n",
    "else :\n",
    "    ratings_train = torch.Tensor(np.load(\"data/ratings_train.npy\")).T #item_based\n",
    "    num_users = ratings_train.shape[1]    # Pour user-based\n",
    "    num_movies = ratings_train.shape[0]  # Pour item-based\n",
    "    input_dim = num_users\n",
    "ratings_train, train_mask = get_mask(ratings_train)\n",
    "print(input_dim)\n",
    "\n",
    "nb_epochs = 100\n",
    "early_stopping = True\n",
    "batch_size = 32\n",
    "device = \"cuda\"\n",
    "train_dataset = TensorDataset(ratings_train, train_mask)\n",
    "train_loader = DataLoader(train_dataset, batch_size, shuffle=True)\n",
    "\n",
    "all_loss_values = {}\n",
    "best_rmse = 1e5\n",
    "best_model = None\n",
    "\n",
    "for hidden_space_dimension in [500]:\n",
    "    model = AutoRecEncoder(input_dim, hidden_space_dimension, dropout=False)\n",
    "    optimizer = torch.optim.Adam(model.parameters(), lr=0.001)#, weight_decay=1e-5)\n",
    "    model = model.to(device)\n",
    "    pbar = tqdm(range(nb_epochs))\n",
    "    \n",
    "    loss_values = []\n",
    "    for epoch in pbar:\n",
    "        model.train()\n",
    "        epoch_loss = 0\n",
    "        for batch_ratings, batch_mask in train_loader:\n",
    "            batch_ratings = batch_ratings.to(device)\n",
    "            batch_mask = batch_mask.to(device)\n",
    "            optimizer.zero_grad()\n",
    "            output_matrix = model(batch_ratings)\n",
    "            loss = compute_rmse(output_matrix, batch_ratings, batch_mask)\n",
    "            epoch_loss += loss.item()\n",
    "            loss.backward()\n",
    "            optimizer.step()\n",
    "        \n",
    "        epoch_loss /= len(train_loader)\n",
    "        pbar.set_description(f\"Hidden_space_dimension: {hidden_space_dimension}. Epoch {epoch + 1}, Loss: {epoch_loss:.4f}\")\n",
    "        loss_values.append(epoch_loss)\n",
    "\n",
    "        if early_stopping:\n",
    "            if (epoch + 1) % 10 == 0:\n",
    "                #print(f\"loss at epoch {epoch + 1}: {epoch_loss}\")\n",
    "                if user_based :\n",
    "                    ratings_test = torch.Tensor(np.load(\"data/ratings_test.npy\"))\n",
    "                else :\n",
    "                    ratings_test = torch.Tensor(np.load(\"data/ratings_test.npy\")).T                \n",
    "                ratings_test, mask_test = get_mask(ratings_test)\n",
    "                model.eval()\n",
    "                with torch.no_grad():\n",
    "                    predictions_test = model(ratings_test.to(device))\n",
    "                predictions_test_rounded = (predictions_test.clone() *2).round()/2\n",
    "                test_loss = compute_rmse(predictions_test_rounded, ratings_test.to(device), mask_test.to(device))\n",
    "                if test_loss.item() < best_rmse :\n",
    "                    print(test_loss.item(), best_rmse)\n",
    "                    best_rmse = test_loss\n",
    "                    best_model = deepcopy(model)\n",
    "                    torch.save(model.state_dict(), f\"best_model_hsd{hidden_space_dimension}.pth\")\n",
    "                    print(f\"Saved weights at epoch {epoch+1}\")\n",
    "\n",
    "    all_loss_values[hidden_space_dimension] = loss_values\n",
    "\n",
    "plt.figure(figsize=(6, 3))\n",
    "for hidden_space_dimension, loss_values in all_loss_values.items():\n",
    "    plt.plot(loss_values, label=f'Hidden Space: {hidden_space_dimension}')\n",
    "plt.title('Courbe d\\'apprentissage')\n",
    "plt.xlabel('Époques')\n",
    "plt.ylabel('Perte RMSE')\n",
    "plt.legend()\n",
    "plt.grid()\n",
    "plt.show()\n"
   ]
  },
  {
   "cell_type": "code",
   "execution_count": 27,
   "metadata": {},
   "outputs": [],
   "source": [
    "def compute_accuracy(pred, true, mask) :\n",
    "    accuracy = torch.sum((pred==true)*mask)/torch.sum(mask)\n",
    "    return accuracy.item()"
   ]
  },
  {
   "cell_type": "code",
   "execution_count": 29,
   "metadata": {},
   "outputs": [
    {
     "name": "stdout",
     "output_type": "stream",
     "text": [
      "Test RMSE: 1.0551573038101196\n",
      "Test RMSE avec arrondis: 1.0660173892974854\n"
     ]
    },
    {
     "data": {
      "text/plain": [
       "0.1993480622768402"
      ]
     },
     "execution_count": 29,
     "metadata": {},
     "output_type": "execute_result"
    }
   ],
   "source": [
    "ratings_test = torch.Tensor(np.load(\"data/ratings_test.npy\"))\n",
    "ratings_test, mask_test = get_mask(ratings_test.T)\n",
    "best_model.eval()\n",
    "with torch.no_grad():\n",
    "    predictions_test = best_model(ratings_test.to(device))\n",
    "test_loss = compute_rmse(predictions_test, ratings_test.to(device), mask_test.to(device))\n",
    "print(f\"Test RMSE: {test_loss.item()}\")\n",
    "predictions_test_rounded = (predictions_test.clone() *2).round()/2\n",
    "test_loss = compute_rmse(predictions_test_rounded, ratings_test.to(device), mask_test.to(device))\n",
    "print(f\"Test RMSE avec arrondis: {test_loss.item()}\")\n",
    "compute_accuracy(predictions_test_rounded, ratings_test.to(device), mask_test.to(device))\n"
   ]
  },
  {
   "cell_type": "code",
   "execution_count": null,
   "metadata": {},
   "outputs": [],
   "source": []
  }
 ],
 "metadata": {
  "kernelspec": {
   "display_name": "Pytorch",
   "language": "python",
   "name": "python3"
  },
  "language_info": {
   "codemirror_mode": {
    "name": "ipython",
    "version": 3
   },
   "file_extension": ".py",
   "mimetype": "text/x-python",
   "name": "python",
   "nbconvert_exporter": "python",
   "pygments_lexer": "ipython3",
   "version": "3.9.13"
  }
 },
 "nbformat": 4,
 "nbformat_minor": 2
}
